{
 "cells": [
  {
   "cell_type": "code",
   "execution_count": 2,
   "metadata": {},
   "outputs": [],
   "source": [
    "import numpy as np\n",
    "import pickle\n",
    "from tqdm import tqdm\n",
    "import os\n",
    "import pypianoroll as pr\n",
    "from Music_Style_Transfer_master.project.utils import dataset_import, padding_v2, get_metas"
   ]
  },
  {
   "cell_type": "code",
   "execution_count": 66,
   "metadata": {},
   "outputs": [
    {
     "name": "stderr",
     "output_type": "stream",
     "text": [
      "\r",
      "0it [00:00, ?it/s]"
     ]
    },
    {
     "name": "stdout",
     "output_type": "stream",
     "text": [
      "Load from Bach_dataset/JSB_Chorales_music21/\n",
      "371 files loaded!\n"
     ]
    },
    {
     "name": "stderr",
     "output_type": "stream",
     "text": [
      "/home/wtl272/py3/lib/python3.6/site-packages/pretty_midi/pretty_midi.py:100: RuntimeWarning: Tempo, Key or Time signature change events found on non-zero tracks.  This is not a valid type 0 or type 1 MIDI file.  Tempo, Key or Time Signature may be wrong.\n",
      "  RuntimeWarning)\n",
      "371it [00:40,  9.11it/s]\n"
     ]
    }
   ],
   "source": [
    "beat_resolution = 8\n",
    "len_context = beat_resolution*4*8\n",
    "max_len = beat_resolution*4*4\n",
    "# 33:97 A1~C7,  21:109 A0~C8, \n",
    "# 7 octave 21:105  A0~G#7  \n",
    "pitch_range = np.arange(21, 105)\n",
    "scaler = np.arange(1, 85)\n",
    "\n",
    "merge = [0 ,1, 2, 3]   # bach: [0 ,1, 2, 3], LPD5: [1, 2, 3 ,4], Medium_swing: [0, 1]\n",
    "path = \"Bach_dataset/JSB_Chorales_music21/\" \n",
    "output_path =  \"../../../scratch/wtl272/dataset/bach_8_on_offset/\"   #\"../../../scratch/wtl272/dataset/lpd_5/lpd_5_cleansed_score/\"\n",
    "file_list = dataset_import(path, \".mid\")\n",
    "\n",
    "# Parse to pianoroll\n",
    "file_index = 0\n",
    "for i, ii in tqdm(enumerate(file_list)):\n",
    "    tmp = pr.Multitrack(filename=ii, beat_resolution=beat_resolution)\n",
    "    # Create a merge track without drums\n",
    "    tmp.merge_tracks(merge)\n",
    "    tmp.binarize()\n",
    "    tmp.assign_constant(1)\n",
    "\n",
    "    score = tmp.tracks[-1].pianoroll[:, pitch_range]\n",
    "    \n",
    "    # Exception\n",
    "    if not score.shape[0]:\n",
    "        continue\n",
    "        \n",
    "    pitch_table = np.array(score[0])\n",
    "    pitch_counter = np.zeros(len(pitch_range), dtype=\"int64\")\n",
    "    score_progress = (np.concatenate([score[1:], np.zeros((1, len(pitch_range)))]) - score).astype('int64')\n",
    "    # Intensity as length\n",
    "    # 1 as onset, gradually decrease to zero \n",
    "    new_score = np.zeros((score.shape[0], score.shape[1], 3))\n",
    "    for t ,tt in enumerate(score):\n",
    "        for p in np.nonzero(pitch_table)[0]:\n",
    "            if pitch_table[p] and pitch_counter[p] == 0:\n",
    "                new_score[t, p, 0] = 1\n",
    "                pitch_counter[p] = 1   \n",
    "            \n",
    "            elif pitch_table[p] == -1:\n",
    "                new_score[t, p, 1] = 1\n",
    "                pitch_counter[p] -= 1\n",
    "                new_score[t - pitch_counter[p]:t, p, 2] = new_score[t - pitch_counter[p]:t, p, 2][::-1]\n",
    "                pitch_counter[p] = 0\n",
    "            \n",
    "        for p in np.nonzero(pitch_counter)[0]:\n",
    "            new_score[t, p, 2] = pitch_counter[p]\n",
    "            pitch_counter[p] += 1\n",
    "            \n",
    "        pitch_table = score_progress[t]\n",
    "        \n",
    "    t +=1\n",
    "    for p in np.nonzero(pitch_table)[0]:\n",
    "        if pitch_table[p] == -1:\n",
    "            pitch_counter[p] -= 1\n",
    "            new_score[t - pitch_counter[p]:t, p, 2] = new_score[t - pitch_counter[p]:t, p, 2][::-1]\n",
    "\n",
    "    iii = 0\n",
    "    score_t = np.roll(new_score, shift=iii, axis=1)\n",
    "    score_t  = padding_v2(score_t , len_context)\n",
    "    np.save(output_path +str(file_index) + \"_\" + str(iii) + \".npy\", score_t)\n",
    "        \n",
    "    timegrid  = get_metas(score_t, beat_resolution, len_context)\n",
    "    np.save(output_path + str(file_index) + \"_meta.npy\", timegrid)\n",
    "    \n",
    "    file_index += 1"
   ]
  }
 ],
 "metadata": {
  "kernelspec": {
   "display_name": "Python 3",
   "language": "python",
   "name": "python3"
  },
  "language_info": {
   "codemirror_mode": {
    "name": "ipython",
    "version": 3
   },
   "file_extension": ".py",
   "mimetype": "text/x-python",
   "name": "python",
   "nbconvert_exporter": "python",
   "pygments_lexer": "ipython3",
   "version": "3.6.3"
  }
 },
 "nbformat": 4,
 "nbformat_minor": 2
}
