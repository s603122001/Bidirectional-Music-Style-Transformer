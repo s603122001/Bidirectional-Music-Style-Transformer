{
 "cells": [
  {
   "cell_type": "code",
   "execution_count": 1,
   "metadata": {},
   "outputs": [
    {
     "name": "stderr",
     "output_type": "stream",
     "text": [
      "Using TensorFlow backend.\n"
     ]
    }
   ],
   "source": [
    "import numpy as np\n",
    "from Music_Style_Transfer_master.project.midi_handler import score2midi\n",
    "from Music_Style_Transfer_master.project.utils import get_representation, dataset_import\n",
    "from Music_Style_Transfer_master.project.model_transformer_relative import _2way_transformer_wavenet_absolute_pitch, _2way_transformer_wavenet_relative_pitch\n",
    "\n",
    "import tqdm\n",
    "import pypianoroll as pr\n",
    "import tensorflow as tf\n",
    "\n",
    "import matplotlib.pyplot as plt\n",
    "%matplotlib inline\n",
    "\n",
    "# 33:97 A1~C7  21:109 A0~C8\n",
    "# 7 octave 21:105  A0~G#7  \n",
    "def midi2score(path, beat_resolution, pitch_range=np.arange(21, 109)):\n",
    "    tmp = pr.Multitrack(filename=path, beat_resolution=beat_resolution)   \n",
    "    tmp.binarize()\n",
    "    tmp.assign_constant(1)\n",
    "    # TODO: use variable to handle pitch range\n",
    "    score = tmp.get_merged_pianoroll()[:, pitch_range]\n",
    "    \n",
    "    return score\n",
    "\n",
    "def load_model(path_model):\n",
    "    model = _2way_transformer_wavenet_absolute_pitch(len_context = 8*4*beat_resolution,\n",
    "                                                 n_octave = 7,\n",
    "                                                 size_embedding = 84,\n",
    "                                                 n_transf_layers = 4,\n",
    "                                                 n_transf_downsample = 0,\n",
    "                                                 n_conv_layers = 7,\n",
    "                                                 context_layers = 1)\n",
    "    model.load_weights(path_model)\n",
    "    \n",
    "    return model\n",
    "\n",
    "def time_index_chosing(_range,\n",
    "                       interval,\n",
    "                       random=True,\n",
    "                       time_list=None):\n",
    "    # For parallel generation\n",
    "    \n",
    "    interval += 1\n",
    "    if (random):\n",
    "        time_index_base = np.random.randint(_range)\n",
    "    else:\n",
    "        time_index_base = time_list[np.random.randint(len(time_list))]\n",
    "\n",
    "    c = time_index_base + np.arange(-interval * 200, interval * 200, interval)\n",
    "\n",
    "    return c[np.where(np.logical_and(c >= 0, c < _range))]\n",
    "\n",
    "\n",
    "def generation(model, score, meta, time_indexes, midi_indexes,\n",
    "                       len_context\n",
    "                       ):\n",
    "    time_indexes = np.array(time_indexes) +  len_context\n",
    "    \n",
    "    left_features = (np.array(score[[np.arange(t -  len_context, t) for t in time_indexes], :]) > 0).astype(int)\n",
    "    left_metas = np.array(meta[[np.arange(t -  len_context, t) for t in time_indexes], :])\n",
    "    \n",
    "    right_features = (np.array(score[[np.arange(t + 1, t + 1 + len_context) for t in time_indexes], :]) > 0).astype(int)\n",
    "    right_metas = np.array(meta[[np.arange(t + 1, t + 1 + len_context) for t in time_indexes], :])\n",
    "    \n",
    "    central_features = (np.array(score[time_indexes, :]) > 0).astype(int)\n",
    "    central_metas = np.array(meta[time_indexes, :])\n",
    "    \n",
    "    for a, b in enumerate(midi_indexes):\n",
    "        central_features[a, b:] = 2\n",
    "        \n",
    "    central_features = np.reshape(central_features, (len(time_indexes), 1, -1))\n",
    "    central_metas = np.reshape(central_metas, (len(time_indexes), 1, -1))\n",
    "\n",
    "    p = model.predict([left_features,  left_metas, \n",
    "                       central_features, central_metas,\n",
    "                       right_features, right_metas])\n",
    "    \n",
    "    return p\n",
    "\n",
    "def style_transfer(score, meta, score_melody, model, len_context, pitch_range, \n",
    "                   iter_num=25, threshold=0.5\n",
    "                   ):\n",
    "\n",
    "    fixed_rhythm_score = score_melody\n",
    "    original_len = len(score_melody)\n",
    "    new_score = np.array(score)\n",
    "    counter = 0\n",
    "    alpha_initial = 0.6\n",
    "    alpha = alpha_initial\n",
    "    alpha_min = 0\n",
    "    annealing_fraction = 0.6\n",
    "    update_count = 0\n",
    "    \n",
    "    plt.figure(figsize=(20, 20))\n",
    "    plt.imshow(new_score[len_context:-len_context, :pitch_range].T)\n",
    "    plt.pause(1)\n",
    "    \n",
    "    for i in tqdm.tqdm(range(iter_num)):\n",
    "        time_list = np.arange(original_len)\n",
    "        if i < iter_num*0.9:\n",
    "            score[len_context:-len_context] = np.logical_or(score[len_context:-len_context], score_melody).astype(int)\n",
    "        print(\"alpha = \", alpha)\n",
    "        \n",
    "        while (time_list.size > 0):\n",
    "            if(alpha != -1):\n",
    "                alpha = max(0, alpha_initial - update_count * (alpha_initial - alpha_min) / (\n",
    "                    iter_num * original_len * annealing_fraction))\n",
    "            if(alpha == 0):\n",
    "                score = new_score\n",
    "                alpha = -1\n",
    "            elif(counter / original_len > alpha and alpha != -1):\n",
    "                counter = 0\n",
    "                score = np.array(new_score)\n",
    "\n",
    "            time_indexes = time_index_chosing(original_len, len_context, random=False, time_list=time_list)\n",
    "            l = len(time_indexes)\n",
    "            sorter = np.argsort(time_list)\n",
    "            d = sorter[np.searchsorted(time_list, time_indexes, sorter=sorter)]\n",
    "            time_list = np.delete(time_list, d, 0)\n",
    "            counter += l\n",
    "\n",
    "            update_count += l\n",
    "\n",
    "            if(alpha != -1):\n",
    "                midi_indexes = np.arange(pitch_range).tolist() * len(time_indexes)\n",
    "                time_indexes_repeat = np.repeat(time_indexes, pitch_range)\n",
    "                p = generation(model, score, meta, time_indexes_repeat, midi_indexes, len_context)\n",
    "                \n",
    "                # TODO: This for loop seems can be removed\n",
    "                for j, t in enumerate(time_indexes_repeat):\n",
    "                    update = p[0][j]\n",
    "                    if update < threshold :\n",
    "                        new_score[t + len_context, midi_indexes[j]] = 0\n",
    "                    else:\n",
    "                        new_score[t + len_context, midi_indexes[j]] = 1\n",
    "               \n",
    "            else:\n",
    "                for midi_index in range(pitch_range):\n",
    "                    \n",
    "                    midi_indexes = [midi_index] * l\n",
    "                    p = generation(model, score, meta, time_indexes, midi_indexes, len_context)\n",
    "                        \n",
    "                    for j, t in enumerate(time_indexes):\n",
    "                        update = p[0][j]\n",
    "                        if i > (0.8 *iter_num):\n",
    "                            if(fixed_rhythm_score[t, midi_indexes[j]] == 0):\n",
    "                                if update < threshold :\n",
    "                                    new_score[t + len_context, midi_indexes[j]] = 0\n",
    "                                else:\n",
    "                                    new_score[t + len_context, midi_indexes[j]] = 1\n",
    "                        else:   \n",
    "                            if update <threshold :\n",
    "                                new_score[t + len_context, midi_indexes[j]] = 0\n",
    "                            else:\n",
    "                                new_score[t + len_context, midi_indexes[j]] = 1\n",
    "        # For plotting\n",
    "        plt.figure(figsize=(20, 20))\n",
    "        plt.imshow(new_score[len_context:-len_context, :pitch_range].T)\n",
    "        plt.pause(1)\n",
    "    return new_score[len_context:-len_context, :pitch_range]"
   ]
  },
  {
   "cell_type": "code",
   "execution_count": 9,
   "metadata": {
    "scrolled": false
   },
   "outputs": [
    {
     "data": {
      "image/png": "[encoded data removed]",
      "text/plain": [
       "<Figure size 1440x1440 with 1 Axes>"
      ]
     },
     "metadata": {
      "needs_background": "light"
     },
     "output_type": "display_data"
    },
    {
     "name": "stderr",
     "output_type": "stream",
     "text": [
      "\n",
      "  0%|          | 0/10 [00:00<?, ?it/s]\u001b[A"
     ]
    },
    {
     "name": "stdout",
     "output_type": "stream",
     "text": [
      "alpha =  0.6\n"
     ]
    },
    {
     "data": {
      "image/png": "[encoded data removed]",
      "text/plain": [
       "<Figure size 1440x1440 with 1 Axes>"
      ]
     },
     "metadata": {
      "needs_background": "light"
     },
     "output_type": "display_data"
    },
    {
     "name": "stderr",
     "output_type": "stream",
     "text": [
      "\n",
      " 10%|█         | 1/10 [02:36<23:26, 156.25s/it]\u001b[A"
     ]
    },
    {
     "name": "stdout",
     "output_type": "stream",
     "text": [
      "alpha =  0.5003124999999999\n"
     ]
    },
    {
     "data": {
      "image/png": "[encoded data removed]",
      "text/plain": [
       "<Figure size 1440x1440 with 1 Axes>"
      ]
     },
     "metadata": {
      "needs_background": "light"
     },
     "output_type": "display_data"
    },
    {
     "name": "stderr",
     "output_type": "stream",
     "text": [
      "\n",
      " 20%|██        | 2/10 [05:01<20:23, 152.89s/it]\u001b[A"
     ]
    },
    {
     "name": "stdout",
     "output_type": "stream",
     "text": [
      "alpha =  0.40031249999999996\n"
     ]
    },
    {
     "data": {
      "image/png": "[encoded data removed]",
      "text/plain": [
       "<Figure size 1440x1440 with 1 Axes>"
      ]
     },
     "metadata": {
      "needs_background": "light"
     },
     "output_type": "display_data"
    },
    {
     "name": "stderr",
     "output_type": "stream",
     "text": [
      "\n",
      " 30%|███       | 3/10 [07:27<17:35, 150.83s/it]\u001b[A"
     ]
    },
    {
     "name": "stdout",
     "output_type": "stream",
     "text": [
      "alpha =  0.3003125\n"
     ]
    },
    {
     "data": {
      "image/png": "[encoded data removed]",
      "text/plain": [
       "<Figure size 1440x1440 with 1 Axes>"
      ]
     },
     "metadata": {
      "needs_background": "light"
     },
     "output_type": "display_data"
    },
    {
     "name": "stderr",
     "output_type": "stream",
     "text": [
      "\n",
      " 40%|████      | 4/10 [09:53<14:56, 149.35s/it]\u001b[A"
     ]
    },
    {
     "name": "stdout",
     "output_type": "stream",
     "text": [
      "alpha =  0.2003125\n"
     ]
    },
    {
     "data": {
      "image/png": "[encoded data removed]",
      "text/plain": [
       "<Figure size 1440x1440 with 1 Axes>"
      ]
     },
     "metadata": {
      "needs_background": "light"
     },
     "output_type": "display_data"
    },
    {
     "name": "stderr",
     "output_type": "stream",
     "text": [
      "\n",
      " 50%|█████     | 5/10 [12:18<12:20, 148.03s/it]\u001b[A"
     ]
    },
    {
     "name": "stdout",
     "output_type": "stream",
     "text": [
      "alpha =  0.10031249999999997\n"
     ]
    },
    {
     "data": {
      "image/png": "[encoded data removed]",
      "text/plain": [
       "<Figure size 1440x1440 with 1 Axes>"
      ]
     },
     "metadata": {
      "needs_background": "light"
     },
     "output_type": "display_data"
    },
    {
     "name": "stderr",
     "output_type": "stream",
     "text": [
      "\n",
      " 60%|██████    | 6/10 [14:43<09:49, 147.32s/it]\u001b[A"
     ]
    },
    {
     "name": "stdout",
     "output_type": "stream",
     "text": [
      "alpha =  0.00031250000000004885\n"
     ]
    },
    {
     "data": {
      "image/png": "[encoded data removed]",
      "text/plain": [
       "<Figure size 1440x1440 with 1 Axes>"
      ]
     },
     "metadata": {
      "needs_background": "light"
     },
     "output_type": "display_data"
    },
    {
     "name": "stderr",
     "output_type": "stream",
     "text": [
      "\n",
      " 70%|███████   | 7/10 [28:09<17:14, 344.84s/it]\u001b[A"
     ]
    },
    {
     "name": "stdout",
     "output_type": "stream",
     "text": [
      "alpha =  -1\n"
     ]
    },
    {
     "data": {
      "image/png": "[encoded data removed]",
      "text/plain": [
       "<Figure size 1440x1440 with 1 Axes>"
      ]
     },
     "metadata": {
      "needs_background": "light"
     },
     "output_type": "display_data"
    },
    {
     "name": "stderr",
     "output_type": "stream",
     "text": [
      "\n",
      " 80%|████████  | 8/10 [41:29<16:02, 481.48s/it]\u001b[A"
     ]
    },
    {
     "name": "stdout",
     "output_type": "stream",
     "text": [
      "alpha =  -1\n"
     ]
    },
    {
     "data": {
      "image/png": "[encoded data removed]",
      "text/plain": [
       "<Figure size 1440x1440 with 1 Axes>"
      ]
     },
     "metadata": {
      "needs_background": "light"
     },
     "output_type": "display_data"
    },
    {
     "name": "stderr",
     "output_type": "stream",
     "text": [
      "\n",
      " 90%|█████████ | 9/10 [54:53<09:38, 578.06s/it]\u001b[A"
     ]
    },
    {
     "name": "stdout",
     "output_type": "stream",
     "text": [
      "alpha =  -1\n"
     ]
    },
    {
     "data": {
      "image/png": "[encoded data removed]",
      "text/plain": [
       "<Figure size 1440x1440 with 1 Axes>"
      ]
     },
     "metadata": {
      "needs_background": "light"
     },
     "output_type": "display_data"
    },
    {
     "name": "stderr",
     "output_type": "stream",
     "text": [
      "\n",
      "100%|██████████| 10/10 [1:08:12<00:00, 644.34s/it]\u001b[A"
     ]
    }
   ],
   "source": [
    "beat_resolution = 8\n",
    "pitch_range = 84\n",
    "len_context = beat_resolution*4*8\n",
    "max_len = beat_resolution*4*4\n",
    "\n",
    "path_model = \"../../../scratch/wtl272/projects/Music_style_transfer/runs/run_61/model/model.hdf5\"\n",
    "\n",
    "# load model\n",
    "model = load_model(path_model)\n",
    "\n",
    "path = \"input_midi/0716/train_harmonized.mid\"\n",
    "path_melody = \"input_midi/0716/train.mid\"\n",
    "\n",
    "score = midi2score(path, beat_resolution, pitch_range=np.arange(21, 105))\n",
    "\n",
    "if path_melody is None:\n",
    "    score_melody = np.zeros(score.shape)\n",
    "else:\n",
    "    score_melody = midi2score(path_melody, beat_resolution, pitch_range=np.arange(21, 105))\n",
    " \n",
    "score = np.array(score[:640])\n",
    "score_melody = np.array(score_melody[:640])\n",
    "score, score_meta = get_representation(score, pitch_range, beat_resolution, len_context)\n",
    "\n",
    "#generation\n",
    "result = style_transfer((np.array(score[:, :, 2]) > 0).astype(int), score_meta, \n",
    "                         score_melody, model, len_context, pitch_range, iter_num=15)\n",
    "\n",
    "#save result\n",
    "score2midi(\"output_midi/train_bah_model61.mid\", result[:len(score_melody)], beat_resolution, \n",
    "           120, pitch_range=np.arange(21, 105),melody_constraint=True, melody=score_melody)"
   ]
  }
 ],
 "metadata": {
  "kernelspec": {
   "display_name": "Python 3",
   "language": "python",
   "name": "python3"
  },
  "language_info": {
   "codemirror_mode": {
    "name": "ipython",
    "version": 3
   },
   "file_extension": ".py",
   "mimetype": "text/x-python",
   "name": "python",
   "nbconvert_exporter": "python",
   "pygments_lexer": "ipython3",
   "version": "3.6.3"
  }
 },
 "nbformat": 4,
 "nbformat_minor": 2
}
