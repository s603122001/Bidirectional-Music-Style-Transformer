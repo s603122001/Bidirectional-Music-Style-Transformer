{
 "cells": [
  {
   "cell_type": "code",
   "execution_count": 1,
   "metadata": {
    "scrolled": true
   },
   "outputs": [
    {
     "name": "stderr",
     "output_type": "stream",
     "text": [
      "Using TensorFlow backend.\n"
     ]
    }
   ],
   "source": [
    "from Music_Style_Transfer_master.project.utils import runs_management, dataset_import, focal_loss, partial_focal_loss, partial_loss_mixup, \\\n",
    "                                                       binary_crossentropy_mixup,  partial_binary_accuracy,\\\n",
    "                                                       current_l_binary_accuracy, current_r_binary_accuracy      \n",
    "from Music_Style_Transfer_master.project.train import train\n",
    "from Music_Style_Transfer_master.project.model_transformer_relative import CustomSchedule, _2way_transformer_wavenet_absolute_pitch_new_embedding\n",
    "from keras.models import load_model\n",
    "import tensorflow as tf\n",
    "import numpy as np\n",
    "\n",
    "path_dataset = \"../../../scratch/wtl272/dataset/bach_8_on_offset/\" #../../../scratch/wtl272/dataset/MediumSwing_8/\"#\"../../../scratch/wtl272/dataset/lpd_5/lpd_5_cleansed_score/\" \n",
    "path_dataset_mixup = \"../../../scratch/wtl272/dataset/lpd_5_8_on_offset/\"\n",
    "path_logging = \"../../../scratch/wtl272/projects/Music_style_transfer/runs/\"\n",
    "path_logging = runs_management(path_logging)\n",
    "\n",
    "#create model\n",
    "\n",
    "# Transformer models\n",
    "# 7 octave 21:105  A0~G#7 \n",
    "beat_resolution = 8\n",
    "pitch_range = len(np.arange(21, 105))\n",
    "batch_size = pitch_range*2\n",
    "\n",
    "model = _2way_transformer_wavenet_absolute_pitch_new_embedding(len_context = 8*4*beat_resolution,\n",
    "                                                 n_octave = 7,\n",
    "                                                 size_embedding = 86,  # 0~84 + mask\n",
    "                                                 n_transf_layers = 4,\n",
    "                                                 n_transf_downsample = 0,\n",
    "                                                 n_conv_layers = 7,\n",
    "                                                 context_layers = 1)\n",
    "\n",
    "losses = {'prediction': focal_loss, \n",
    "          'central_l': partial_focal_loss,\n",
    "          'central_r': partial_focal_loss\n",
    "         }\n",
    "losses_w =  {'prediction': 0.5, \n",
    "             'central_l': 1.0,\n",
    "             'central_r': 1.0\n",
    "            }\n",
    "\n",
    "metrics = {'prediction': 'binary_accuracy', \n",
    "           'central_l': [partial_binary_accuracy, current_l_binary_accuracy],\n",
    "           'central_r': [partial_binary_accuracy, current_r_binary_accuracy]  \n",
    "          }\n",
    "\n",
    "model.compile(optimizer=\"adam\", loss=losses, loss_weights=losses_w, metrics=metrics)"
   ]
  },
  {
   "cell_type": "code",
   "execution_count": null,
   "metadata": {
    "scrolled": false
   },
   "outputs": [
    {
     "name": "stdout",
     "output_type": "stream",
     "text": [
      "Load from ../../../scratch/wtl272/dataset/bach_8_on_offset/\n",
      "742 files loaded!\n",
      "Load from ../../../scratch/wtl272/dataset/bach_8_on_offset/\n",
      "742 files loaded!\n"
     ]
    },
    {
     "name": "stderr",
     "output_type": "stream",
     "text": [
      "WARNING: Logging before flag parsing goes to stderr.\n",
      "W1125 11:09:51.866993 47076327965696 summary_ops_v2.py:1110] Model failed to serialize as JSON. Ignoring... ('Not JSON Serializable:', b'\\n\\x05Shape\\x12\\x05Shape\\x1a\\x10central_features*\\x07\\n\\x01T\\x12\\x020\\x01*\\x0e\\n\\x08out_type\\x12\\x020\\x03')\n"
     ]
    },
    {
     "name": "stdout",
     "output_type": "stream",
     "text": [
      "Epoch 1/100\n"
     ]
    },
    {
     "name": "stderr",
     "output_type": "stream",
     "text": [
      "W1125 11:09:52.986799 47076327965696 deprecation.py:323] From /home/wtl272/py3/lib/python3.6/site-packages/tensorflow/python/ops/math_grad.py:1205: add_dispatch_support.<locals>.wrapper (from tensorflow.python.ops.array_ops) is deprecated and will be removed in a future version.\n",
      "Instructions for updating:\n",
      "Use tf.where in 2.0, which has the same broadcast rule as np.where\n"
     ]
    },
    {
     "name": "stdout",
     "output_type": "stream",
     "text": [
      "7999/8000 [============================>.] - ETA: 0s - loss: 0.0099 - prediction_loss: 0.0164 - central_l_loss: 8.1619e-04 - central_r_loss: 8.8842e-04 - prediction_binary_accuracy: 0.9595 - central_l_partial_binary_accuracy: 0.9942 - central_l_current_l_binary_accuracy: 0.9846 - central_r_partial_binary_accuracy: 0.9936 - central_r_current_r_binary_accuracy: 0.9847Load from ../../../scratch/wtl272/dataset/bach_8_on_offset/\n",
      "742 files loaded!\n",
      "Load from ../../../scratch/wtl272/dataset/bach_8_on_offset/\n",
      "742 files loaded!\n",
      "8000/8000 [==============================] - 6509s 814ms/step - loss: 0.0099 - prediction_loss: 0.0164 - central_l_loss: 8.1613e-04 - central_r_loss: 8.8837e-04 - prediction_binary_accuracy: 0.9595 - central_l_partial_binary_accuracy: 0.9942 - central_l_current_l_binary_accuracy: 0.9846 - central_r_partial_binary_accuracy: 0.9936 - central_r_current_r_binary_accuracy: 0.9847 - val_loss: 0.0031 - val_prediction_loss: 0.0062 - val_central_l_loss: 2.8675e-05 - val_central_r_loss: 2.5527e-05 - val_prediction_binary_accuracy: 0.9811 - val_central_l_partial_binary_accuracy: 0.9828 - val_central_l_current_l_binary_accuracy: 0.9828 - val_central_r_partial_binary_accuracy: 0.9855 - val_central_r_current_r_binary_accuracy: 0.9855\n",
      "Epoch 2/100\n",
      "8000/8000 [==============================] - 6102s 763ms/step - loss: 0.0039 - prediction_loss: 0.0063 - central_l_loss: 3.4739e-04 - central_r_loss: 4.3500e-04 - prediction_binary_accuracy: 0.9827 - central_l_partial_binary_accuracy: 0.9973 - central_l_current_l_binary_accuracy: 0.9860 - central_r_partial_binary_accuracy: 0.9967 - central_r_current_r_binary_accuracy: 0.9860 - val_loss: 0.0017 - val_prediction_loss: 0.0032 - val_central_l_loss: 2.2384e-05 - val_central_r_loss: 2.3469e-05 - val_prediction_binary_accuracy: 0.9914 - val_central_l_partial_binary_accuracy: 0.9888 - val_central_l_current_l_binary_accuracy: 0.9888 - val_central_r_partial_binary_accuracy: 0.9870 - val_central_r_current_r_binary_accuracy: 0.9870\n",
      "Epoch 3/100\n",
      "8000/8000 [==============================] - 6120s 765ms/step - loss: 0.0033 - prediction_loss: 0.0052 - central_l_loss: 3.1292e-04 - central_r_loss: 3.8700e-04 - prediction_binary_accuracy: 0.9855 - central_l_partial_binary_accuracy: 0.9976 - central_l_current_l_binary_accuracy: 0.9868 - central_r_partial_binary_accuracy: 0.9971 - central_r_current_r_binary_accuracy: 0.9866 - val_loss: 0.0015 - val_prediction_loss: 0.0029 - val_central_l_loss: 2.2490e-05 - val_central_r_loss: 2.3076e-05 - val_prediction_binary_accuracy: 0.9925 - val_central_l_partial_binary_accuracy: 0.9889 - val_central_l_current_l_binary_accuracy: 0.9889 - val_central_r_partial_binary_accuracy: 0.9872 - val_central_r_current_r_binary_accuracy: 0.9872\n",
      "Epoch 4/100\n",
      "8000/8000 [==============================] - 6110s 764ms/step - loss: 0.0031 - prediction_loss: 0.0049 - central_l_loss: 2.9997e-04 - central_r_loss: 3.6903e-04 - prediction_binary_accuracy: 0.9862 - central_l_partial_binary_accuracy: 0.9977 - central_l_current_l_binary_accuracy: 0.9871 - central_r_partial_binary_accuracy: 0.9972 - central_r_current_r_binary_accuracy: 0.9869 - val_loss: 0.0014 - val_prediction_loss: 0.0028 - val_central_l_loss: 2.2004e-05 - val_central_r_loss: 2.1962e-05 - val_prediction_binary_accuracy: 0.9919 - val_central_l_partial_binary_accuracy: 0.9888 - val_central_l_current_l_binary_accuracy: 0.9888 - val_central_r_partial_binary_accuracy: 0.9882 - val_central_r_current_r_binary_accuracy: 0.9882\n",
      "Epoch 5/100\n",
      "8000/8000 [==============================] - 6083s 760ms/step - loss: 0.0030 - prediction_loss: 0.0047 - central_l_loss: 2.9062e-04 - central_r_loss: 3.7323e-04 - prediction_binary_accuracy: 0.9868 - central_l_partial_binary_accuracy: 0.9977 - central_l_current_l_binary_accuracy: 0.9872 - central_r_partial_binary_accuracy: 0.9972 - central_r_current_r_binary_accuracy: 0.9870 - val_loss: 0.0014 - val_prediction_loss: 0.0027 - val_central_l_loss: 2.1506e-05 - val_central_r_loss: 2.1577e-05 - val_prediction_binary_accuracy: 0.9927 - val_central_l_partial_binary_accuracy: 0.9889 - val_central_l_current_l_binary_accuracy: 0.9889 - val_central_r_partial_binary_accuracy: 0.9884 - val_central_r_current_r_binary_accuracy: 0.9884\n",
      "Epoch 6/100\n",
      "8000/8000 [==============================] - 6094s 762ms/step - loss: 0.0033 - prediction_loss: 0.0050 - central_l_loss: 3.8274e-04 - central_r_loss: 4.7068e-04 - prediction_binary_accuracy: 0.9859 - central_l_partial_binary_accuracy: 0.9971 - central_l_current_l_binary_accuracy: 0.9867 - central_r_partial_binary_accuracy: 0.9964 - central_r_current_r_binary_accuracy: 0.9865 - val_loss: 0.0030 - val_prediction_loss: 0.0058 - val_central_l_loss: 2.4944e-05 - val_central_r_loss: 2.5396e-05 - val_prediction_binary_accuracy: 0.9842 - val_central_l_partial_binary_accuracy: 0.9871 - val_central_l_current_l_binary_accuracy: 0.9871 - val_central_r_partial_binary_accuracy: 0.9866 - val_central_r_current_r_binary_accuracy: 0.9866\n",
      "Epoch 7/100\n",
      "8000/8000 [==============================] - 6083s 760ms/step - loss: 0.0045 - prediction_loss: 0.0057 - central_l_loss: 8.1393e-04 - central_r_loss: 7.9411e-04 - prediction_binary_accuracy: 0.9837 - central_l_partial_binary_accuracy: 0.9929 - central_l_current_l_binary_accuracy: 0.9862 - central_r_partial_binary_accuracy: 0.9930 - central_r_current_r_binary_accuracy: 0.9860 - val_loss: 0.0036 - val_prediction_loss: 0.0071 - val_central_l_loss: 2.5139e-05 - val_central_r_loss: 2.4516e-05 - val_prediction_binary_accuracy: 0.9779 - val_central_l_partial_binary_accuracy: 0.9862 - val_central_l_current_l_binary_accuracy: 0.9862 - val_central_r_partial_binary_accuracy: 0.9878 - val_central_r_current_r_binary_accuracy: 0.9878\n",
      "Epoch 8/100\n",
      "8000/8000 [==============================] - 6377s 797ms/step - loss: 0.0040 - prediction_loss: 0.0053 - central_l_loss: 6.3622e-04 - central_r_loss: 7.3328e-04 - prediction_binary_accuracy: 0.9851 - central_l_partial_binary_accuracy: 0.9948 - central_l_current_l_binary_accuracy: 0.9868 - central_r_partial_binary_accuracy: 0.9933 - central_r_current_r_binary_accuracy: 0.9869 - val_loss: 0.0012 - val_prediction_loss: 0.0024 - val_central_l_loss: 1.9085e-05 - val_central_r_loss: 2.0885e-05 - val_prediction_binary_accuracy: 0.9935 - val_central_l_partial_binary_accuracy: 0.9899 - val_central_l_current_l_binary_accuracy: 0.9899 - val_central_r_partial_binary_accuracy: 0.9889 - val_central_r_current_r_binary_accuracy: 0.9889\n",
      "Epoch 9/100\n",
      "8000/8000 [==============================] - 6112s 764ms/step - loss: 0.0033 - prediction_loss: 0.0045 - central_l_loss: 5.4224e-04 - central_r_loss: 5.6692e-04 - prediction_binary_accuracy: 0.9874 - central_l_partial_binary_accuracy: 0.9954 - central_l_current_l_binary_accuracy: 0.9877 - central_r_partial_binary_accuracy: 0.9949 - central_r_current_r_binary_accuracy: 0.9873 - val_loss: 0.0013 - val_prediction_loss: 0.0024 - val_central_l_loss: 2.1086e-05 - val_central_r_loss: 2.1880e-05 - val_prediction_binary_accuracy: 0.9931 - val_central_l_partial_binary_accuracy: 0.9898 - val_central_l_current_l_binary_accuracy: 0.9898 - val_central_r_partial_binary_accuracy: 0.9887 - val_central_r_current_r_binary_accuracy: 0.9887\n",
      "Epoch 10/100\n",
      "8000/8000 [==============================] - 6083s 760ms/step - loss: 0.0036 - prediction_loss: 0.0048 - central_l_loss: 6.2525e-04 - central_r_loss: 5.4605e-04 - prediction_binary_accuracy: 0.9863 - central_l_partial_binary_accuracy: 0.9948 - central_l_current_l_binary_accuracy: 0.9872 - central_r_partial_binary_accuracy: 0.9955 - central_r_current_r_binary_accuracy: 0.9867 - val_loss: 0.0011 - val_prediction_loss: 0.0021 - val_central_l_loss: 1.8324e-05 - val_central_r_loss: 2.0743e-05 - val_prediction_binary_accuracy: 0.9941 - val_central_l_partial_binary_accuracy: 0.9907 - val_central_l_current_l_binary_accuracy: 0.9907 - val_central_r_partial_binary_accuracy: 0.9884 - val_central_r_current_r_binary_accuracy: 0.9884\n",
      "Epoch 11/100\n",
      "8000/8000 [==============================] - 6361s 795ms/step - loss: 0.0031 - prediction_loss: 0.0042 - central_l_loss: 4.6291e-04 - central_r_loss: 5.4308e-04 - prediction_binary_accuracy: 0.9879 - central_l_partial_binary_accuracy: 0.9961 - central_l_current_l_binary_accuracy: 0.9881 - central_r_partial_binary_accuracy: 0.9953 - central_r_current_r_binary_accuracy: 0.9873 - val_loss: 0.0010 - val_prediction_loss: 0.0020 - val_central_l_loss: 2.0539e-05 - val_central_r_loss: 2.0644e-05 - val_prediction_binary_accuracy: 0.9941 - val_central_l_partial_binary_accuracy: 0.9908 - val_central_l_current_l_binary_accuracy: 0.9908 - val_central_r_partial_binary_accuracy: 0.9894 - val_central_r_current_r_binary_accuracy: 0.9894\n",
      "Epoch 12/100\n",
      "8000/8000 [==============================] - 6455s 807ms/step - loss: 0.0026 - prediction_loss: 0.0039 - central_l_loss: 3.0857e-04 - central_r_loss: 3.5152e-04 - prediction_binary_accuracy: 0.9890 - central_l_partial_binary_accuracy: 0.9976 - central_l_current_l_binary_accuracy: 0.9882 - central_r_partial_binary_accuracy: 0.9974 - central_r_current_r_binary_accuracy: 0.9876 - val_loss: 0.0010 - val_prediction_loss: 0.0020 - val_central_l_loss: 2.0422e-05 - val_central_r_loss: 2.1899e-05 - val_prediction_binary_accuracy: 0.9943 - val_central_l_partial_binary_accuracy: 0.9904 - val_central_l_current_l_binary_accuracy: 0.9904 - val_central_r_partial_binary_accuracy: 0.9888 - val_central_r_current_r_binary_accuracy: 0.9888\n",
      "Epoch 13/100\n",
      "8000/8000 [==============================] - 6441s 805ms/step - loss: 0.0039 - prediction_loss: 0.0050 - central_l_loss: 6.4784e-04 - central_r_loss: 7.1238e-04 - prediction_binary_accuracy: 0.9857 - central_l_partial_binary_accuracy: 0.9945 - central_l_current_l_binary_accuracy: 0.9868 - central_r_partial_binary_accuracy: 0.9940 - central_r_current_r_binary_accuracy: 0.9861 - val_loss: 0.0012 - val_prediction_loss: 0.0022 - val_central_l_loss: 2.0469e-05 - val_central_r_loss: 2.0971e-05 - val_prediction_binary_accuracy: 0.9936 - val_central_l_partial_binary_accuracy: 0.9879 - val_central_l_current_l_binary_accuracy: 0.9879 - val_central_r_partial_binary_accuracy: 0.9888 - val_central_r_current_r_binary_accuracy: 0.9888\n",
      "Epoch 14/100\n",
      "8000/8000 [==============================] - 6106s 763ms/step - loss: 0.0045 - prediction_loss: 0.0056 - central_l_loss: 8.5050e-04 - central_r_loss: 8.8640e-04 - prediction_binary_accuracy: 0.9840 - central_l_partial_binary_accuracy: 0.9931 - central_l_current_l_binary_accuracy: 0.9860 - central_r_partial_binary_accuracy: 0.9926 - central_r_current_r_binary_accuracy: 0.9856 - val_loss: 0.0016 - val_prediction_loss: 0.0031 - val_central_l_loss: 2.1272e-05 - val_central_r_loss: 2.0910e-05 - val_prediction_binary_accuracy: 0.9917 - val_central_l_partial_binary_accuracy: 0.9887 - val_central_l_current_l_binary_accuracy: 0.9887 - val_central_r_partial_binary_accuracy: 0.9892 - val_central_r_current_r_binary_accuracy: 0.9892\n",
      "Epoch 15/100\n",
      "8000/8000 [==============================] - 6023s 753ms/step - loss: 0.0040 - prediction_loss: 0.0049 - central_l_loss: 7.8180e-04 - central_r_loss: 7.8597e-04 - prediction_binary_accuracy: 0.9861 - central_l_partial_binary_accuracy: 0.9928 - central_l_current_l_binary_accuracy: 0.9870 - central_r_partial_binary_accuracy: 0.9928 - central_r_current_r_binary_accuracy: 0.9869 - val_loss: 0.0013 - val_prediction_loss: 0.0025 - val_central_l_loss: 1.9564e-05 - val_central_r_loss: 2.0670e-05 - val_prediction_binary_accuracy: 0.9934 - val_central_l_partial_binary_accuracy: 0.9905 - val_central_l_current_l_binary_accuracy: 0.9905 - val_central_r_partial_binary_accuracy: 0.9895 - val_central_r_current_r_binary_accuracy: 0.9895\n",
      "Epoch 16/100\n",
      "8000/8000 [==============================] - 6421s 803ms/step - loss: 0.0038 - prediction_loss: 0.0046 - central_l_loss: 8.1457e-04 - central_r_loss: 7.0467e-04 - prediction_binary_accuracy: 0.9869 - central_l_partial_binary_accuracy: 0.9927 - central_l_current_l_binary_accuracy: 0.9871 - central_r_partial_binary_accuracy: 0.9934 - central_r_current_r_binary_accuracy: 0.9868 - val_loss: 0.0010 - val_prediction_loss: 0.0020 - val_central_l_loss: 1.8528e-05 - val_central_r_loss: 2.0210e-05 - val_prediction_binary_accuracy: 0.9939 - val_central_l_partial_binary_accuracy: 0.9914 - val_central_l_current_l_binary_accuracy: 0.9914 - val_central_r_partial_binary_accuracy: 0.9892 - val_central_r_current_r_binary_accuracy: 0.9892\n",
      "Epoch 17/100\n",
      "8000/8000 [==============================] - 6374s 797ms/step - loss: 0.0036 - prediction_loss: 0.0044 - central_l_loss: 6.9749e-04 - central_r_loss: 6.5510e-04 - prediction_binary_accuracy: 0.9874 - central_l_partial_binary_accuracy: 0.9932 - central_l_current_l_binary_accuracy: 0.9880 - central_r_partial_binary_accuracy: 0.9940 - central_r_current_r_binary_accuracy: 0.9871 - val_loss: 0.0012 - val_prediction_loss: 0.0022 - val_central_l_loss: 2.0179e-05 - val_central_r_loss: 2.0537e-05 - val_prediction_binary_accuracy: 0.9936 - val_central_l_partial_binary_accuracy: 0.9882 - val_central_l_current_l_binary_accuracy: 0.9882 - val_central_r_partial_binary_accuracy: 0.9884 - val_central_r_current_r_binary_accuracy: 0.9884\n",
      "Epoch 18/100\n",
      "8000/8000 [==============================] - 6097s 762ms/step - loss: 0.0044 - prediction_loss: 0.0054 - central_l_loss: 8.3809e-04 - central_r_loss: 8.7099e-04 - prediction_binary_accuracy: 0.9845 - central_l_partial_binary_accuracy: 0.9925 - central_l_current_l_binary_accuracy: 0.9865 - central_r_partial_binary_accuracy: 0.9927 - central_r_current_r_binary_accuracy: 0.9854 - val_loss: 0.0015 - val_prediction_loss: 0.0028 - val_central_l_loss: 2.0348e-05 - val_central_r_loss: 2.1049e-05 - val_prediction_binary_accuracy: 0.9927 - val_central_l_partial_binary_accuracy: 0.9906 - val_central_l_current_l_binary_accuracy: 0.9906 - val_central_r_partial_binary_accuracy: 0.9883 - val_central_r_current_r_binary_accuracy: 0.9883\n",
      "Epoch 19/100\n",
      "7999/8000 [============================>.] - ETA: 0s - loss: 0.0044 - prediction_loss: 0.0053 - central_l_loss: 7.9134e-04 - central_r_loss: 9.2956e-04 - prediction_binary_accuracy: 0.9849 - central_l_partial_binary_accuracy: 0.9927 - central_l_current_l_binary_accuracy: 0.9863 - central_r_partial_binary_accuracy: 0.9921 - central_r_current_r_binary_accuracy: 0.9854"
     ]
    }
   ],
   "source": [
    "model = train(model=model, path_model=path_logging + \"/model/model\", path_dataset=path_dataset, \n",
    "              path_logging=path_logging + \"/logging/\", beat_resolution=beat_resolution, len_context=8*4*beat_resolution,\n",
    "              pitch_range=pitch_range, epoch=100, steps_per_epoch=8000, \n",
    "              batch_size=batch_size, random_valid=True, random_mask=True, mask_ratio=0.30, path_dataset_mixup=None\n",
    "             )"
   ]
  }
 ],
 "metadata": {
  "kernelspec": {
   "display_name": "Python 3",
   "language": "python",
   "name": "python3"
  },
  "language_info": {
   "codemirror_mode": {
    "name": "ipython",
    "version": 3
   },
   "file_extension": ".py",
   "mimetype": "text/x-python",
   "name": "python",
   "nbconvert_exporter": "python",
   "pygments_lexer": "ipython3",
   "version": "3.6.3"
  }
 },
 "nbformat": 4,
 "nbformat_minor": 2
}
